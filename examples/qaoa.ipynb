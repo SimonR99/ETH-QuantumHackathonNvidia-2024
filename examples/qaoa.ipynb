{
 "cells": [
  {
   "cell_type": "code",
<<<<<<< HEAD
   "execution_count": 5,
=======
   "execution_count": 7,
>>>>>>> 6add24e70a455a3ad3fc97a37befd33a17db5929
   "metadata": {},
   "outputs": [
    {
     "name": "stdout",
     "output_type": "stream",
     "text": [
      "Initial parameters =  [0.21810696323572243, -0.20613464375211488, 0.2546877639814583, 0.3657985647468064]\n",
<<<<<<< HEAD
      "Optimal value =  -1.9999973773950046\n",
      "Optimal parameters =  [2.3554837788906893, -1.1775761251450916, -0.3928892227776766, -0.78509461335463]\n",
      "{ 0101:521 1010:479 }\n",
=======
      "Optimal value =  -1.9999998963500114\n",
      "Optimal parameters =  [0.7853398534952505, -0.3926432960438144, 0.3927977417737402, 2.3560856622005475]\n",
      "{ 1010:479 0101:521 }\n",
>>>>>>> 6add24e70a455a3ad3fc97a37befd33a17db5929
      "\n"
     ]
    }
   ],
   "source": [
    "import cudaq\n",
    "from cudaq import spin\n",
    "\n",
    "from typing import List\n",
    "\n",
    "import numpy as np\n",
    "\n",
    "cudaq.set_target('qpp-cpu')\n",
    "\n",
    "# Here we build up a kernel for QAOA with `p` layers, with each layer\n",
    "# containing the alternating set of unitaries corresponding to the problem\n",
    "# and the mixer Hamiltonians. The algorithm leverages the VQE algorithm\n",
    "# to compute the Max-Cut of a rectangular graph illustrated below.\n",
    "\n",
    "#       v0  0---------------------0 v1\n",
    "#           |                     |\n",
    "#           |                     |\n",
    "#           |                     |\n",
    "#           |                     |\n",
    "#       v3  0---------------------0 v2\n",
    "# The Max-Cut for this problem is 0101 or 1010.\n",
    "\n",
    "# The problem Hamiltonian\n",
    "hamiltonian = 0.5 * spin.z(0) * spin.z(1) + 0.5 * spin.z(1) * spin.z(2) \\\n",
    "       + 0.5 * spin.z(0) * spin.z(3) + 0.5 * spin.z(2) * spin.z(3)\n",
    "\n",
    "# Problem parameters.\n",
    "qubit_count: int = 4\n",
    "layer_count: int = 2\n",
    "parameter_count: int = 2 * layer_count\n",
    "\n",
    "\n",
    "@cudaq.kernel\n",
    "def kernel_qaoa(qubit_count: int, layer_count: int, thetas: List[float]):\n",
    "    \"\"\"QAOA ansatz for Max-Cut\"\"\"\n",
    "    qvector = cudaq.qvector(qubit_count)\n",
    "\n",
    "    # Create superposition\n",
    "    h(qvector)\n",
    "\n",
    "    # Loop over the layers\n",
    "    for layer in range(layer_count):\n",
    "        # Loop over the qubits\n",
    "        # Problem unitary\n",
    "        for qubit in range(qubit_count):\n",
    "            x.ctrl(qvector[qubit], qvector[(qubit + 1) % qubit_count])\n",
    "            rz(2.0 * thetas[layer], qvector[(qubit + 1) % qubit_count])\n",
    "            x.ctrl(qvector[qubit], qvector[(qubit + 1) % qubit_count])\n",
    "\n",
    "        # Mixer unitary\n",
    "        for qubit in range(qubit_count):\n",
    "            rx(2.0 * thetas[layer + layer_count], qvector[qubit])\n",
    "\n",
    "\n",
    "# Specify the optimizer and its initial parameters. Make it repeatable.\n",
    "cudaq.set_random_seed(13)\n",
    "optimizer = cudaq.optimizers.COBYLA()\n",
    "np.random.seed(13)\n",
    "optimizer.initial_parameters = np.random.uniform(-np.pi / 8.0, np.pi / 8.0,\n",
    "                                                 parameter_count)\n",
    "print(\"Initial parameters = \", optimizer.initial_parameters)\n",
    "\n",
    "\n",
    "# Define the objective, return `<state(params) | H | state(params)>`\n",
    "def objective(parameters):\n",
    "    return cudaq.observe(kernel_qaoa, hamiltonian, qubit_count, layer_count,\n",
    "                         parameters).expectation()\n",
    "\n",
    "\n",
    "# Optimize!\n",
    "optimal_expectation, optimal_parameters = optimizer.optimize(\n",
    "    dimensions=parameter_count, function=objective)\n",
    "\n",
    "# Print the optimized value and its parameters\n",
    "print(\"Optimal value = \", optimal_expectation)\n",
    "print(\"Optimal parameters = \", optimal_parameters)\n",
    "\n",
    "# Sample the circuit using the optimized parameters\n",
    "counts = cudaq.sample(kernel_qaoa, qubit_count, layer_count, optimal_parameters)\n",
    "print(counts)"
   ]
  },
  {
   "cell_type": "code",
   "execution_count": null,
   "metadata": {},
   "outputs": [],
   "source": []
  }
 ],
 "metadata": {
  "kernelspec": {
   "display_name": "Python 3",
   "language": "python",
   "name": "python3"
  },
  "language_info": {
   "codemirror_mode": {
    "name": "ipython",
    "version": 3
   },
   "file_extension": ".py",
   "mimetype": "text/x-python",
   "name": "python",
   "nbconvert_exporter": "python",
   "pygments_lexer": "ipython3",
   "version": "3.10.12"
  }
 },
 "nbformat": 4,
 "nbformat_minor": 2
}
